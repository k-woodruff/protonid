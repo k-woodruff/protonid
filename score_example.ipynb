{
 "cells": [
  {
   "cell_type": "markdown",
   "metadata": {},
   "source": [
    "# Proton ID scoring example\n",
    "\n",
    "There is a simple python script (predict_multi.py) that imports XGBoost(https://github.com/dmlc/xgboost) and the pre-trained Booster object, imports the csv containing the track features that you want to score as a pandas dataframe, and predicts. Then it adds the scores to the dataframe. The script is called predict_multi.py and this example shows how to run it."
   ]
  },
  {
   "cell_type": "markdown",
   "metadata": {},
   "source": [
    "### Getting csv files from analysis tree\n",
    "There are currently two ways of getting all of the reconstructed features used out of the analysis tree files.\n",
    "\n",
    "1. There is a ROOT macro that you can find here:\n",
    "/uboone/app/users/kwoodruf/ana2csv/ana2csv_bnbcos.C\n",
    "(It is pretty bloated and inefficient.)\n",
    "\n",
    "2. Erez Cohen wrote a larlite module that is much faster and more efficient to get these variables out. You can contact him on how to use it.\n",
    "\n",
    "If you just want to look at MCC7 monte carlo samples, I can point you to where csv files already exist."
   ]
  },
  {
   "cell_type": "markdown",
   "metadata": {},
   "source": [
    "## Predicting scores\n",
    "\n",
    "In this example, we are scoring a small sample of BNB+cosmic Monte Carlo files from MCC7. All of the features that are used as input to score the tracks are pulled from the analysis tree files and written to a csv. The location of the csv that you want to score is the argument of the predict_data function.\n",
    "\n",
    "The function returns a pandas dataframe that contains all of the information from the csv in addition to the predicted scores for each of the five possible classes (proton, muon, pion, electron/photon, and cosmic)."
   ]
  },
  {
   "cell_type": "code",
   "execution_count": 1,
   "metadata": {
    "collapsed": true
   },
   "outputs": [],
   "source": [
    "import predict_multi"
   ]
  },
  {
   "cell_type": "code",
   "execution_count": 2,
   "metadata": {
    "collapsed": false
   },
   "outputs": [],
   "source": [
    "data = predict_multi.predict_data('data/bnb/featuresana_bnbcosmic_october.csv')"
   ]
  },
  {
   "cell_type": "markdown",
   "metadata": {},
   "source": [
    "Ex: look at all of the cosmic scores for all of the tracks in the sample:"
   ]
  },
  {
   "cell_type": "code",
   "execution_count": 6,
   "metadata": {
    "collapsed": false
   },
   "outputs": [
    {
     "name": "stdout",
     "output_type": "stream",
     "text": [
      "      mscore_cos\n",
      "0       0.000150\n",
      "1       0.991786\n",
      "2       0.976635\n",
      "3       0.012406\n",
      "4       0.988741\n",
      "5       0.999126\n",
      "6       0.465445\n",
      "7       0.077194\n",
      "8       0.960060\n",
      "9       0.014253\n",
      "10      0.011351\n",
      "11      0.013440\n",
      "12      0.031443\n",
      "13      0.016569\n",
      "14      0.000828\n",
      "15      0.000835\n",
      "16      0.932547\n",
      "17      0.005565\n",
      "18      0.660447\n",
      "19      0.962197\n",
      "20      0.972752\n",
      "21      0.020815\n",
      "22      0.002200\n",
      "23      0.007027\n",
      "24      0.021470\n",
      "25      0.041770\n",
      "26      0.815703\n",
      "27      0.746770\n",
      "28      0.835901\n",
      "29      0.999037\n",
      "...          ...\n",
      "9970    0.968454\n",
      "9971    0.872649\n",
      "9972    0.989565\n",
      "9973    0.000039\n",
      "9974    0.000190\n",
      "9975    0.811541\n",
      "9976    0.000403\n",
      "9977    0.467032\n",
      "9978    0.899694\n",
      "9979    0.008005\n",
      "9980    0.996500\n",
      "9981    0.069135\n",
      "9982    0.440117\n",
      "9983    0.980839\n",
      "9984    0.999048\n",
      "9985    0.997767\n",
      "9986    0.991164\n",
      "9987    0.998884\n",
      "9988    0.002411\n",
      "9989    0.505374\n",
      "9990    0.117291\n",
      "9991    0.187854\n",
      "9992    0.999913\n",
      "9993    0.973313\n",
      "9994    0.965641\n",
      "9995    0.991023\n",
      "9996    0.998406\n",
      "9997    0.011268\n",
      "9998    0.000493\n",
      "9999    0.997245\n",
      "\n",
      "[10000 rows x 1 columns]\n"
     ]
    }
   ],
   "source": [
    "print data[['mscore_cos']]"
   ]
  },
  {
   "cell_type": "markdown",
   "metadata": {},
   "source": [
    "We can also look at the muon scores for all of the BNB muons in the sample:"
   ]
  },
  {
   "cell_type": "code",
   "execution_count": 7,
   "metadata": {
    "collapsed": false
   },
   "outputs": [
    {
     "name": "stdout",
     "output_type": "stream",
     "text": [
      "      mscore_mu\n",
      "0      0.999446\n",
      "14     0.538466\n",
      "31     0.110061\n",
      "56     0.904116\n",
      "83     0.774758\n",
      "84     0.092356\n",
      "102    0.971906\n",
      "111    0.985455\n",
      "114    0.977197\n",
      "122    0.996712\n",
      "139    0.996917\n",
      "140    0.132057\n",
      "145    0.997705\n",
      "146    0.722359\n",
      "171    0.545810\n",
      "215    0.547323\n",
      "225    0.998017\n",
      "254    0.995435\n",
      "271    0.993630\n",
      "314    0.835415\n",
      "323    0.924339\n",
      "350    0.240956\n",
      "354    0.015847\n",
      "374    0.246860\n",
      "380    0.627048\n",
      "387    0.987912\n",
      "405    0.572721\n",
      "406    0.828839\n",
      "423    0.999236\n",
      "435    0.877766\n",
      "...         ...\n",
      "9409   0.997943\n",
      "9412   0.981385\n",
      "9426   0.804291\n",
      "9432   0.979061\n",
      "9434   0.117047\n",
      "9449   0.005923\n",
      "9479   0.954749\n",
      "9499   0.974698\n",
      "9501   0.801159\n",
      "9502   0.854751\n",
      "9514   0.062385\n",
      "9556   0.995728\n",
      "9565   0.954242\n",
      "9608   0.978807\n",
      "9638   0.022445\n",
      "9657   0.978986\n",
      "9680   0.968617\n",
      "9717   0.994709\n",
      "9731   0.968277\n",
      "9741   0.970892\n",
      "9745   0.180340\n",
      "9751   0.948128\n",
      "9824   0.162386\n",
      "9881   0.996785\n",
      "9898   0.997076\n",
      "9901   0.997898\n",
      "9922   0.054870\n",
      "9924   0.985783\n",
      "9959   0.871502\n",
      "9964   0.043744\n",
      "\n",
      "[495 rows x 1 columns]\n"
     ]
    }
   ],
   "source": [
    "print data[['mscore_mu']][(data.mcpdg == 13) & (data.mcorigin == 1)]"
   ]
  },
  {
   "cell_type": "markdown",
   "metadata": {},
   "source": [
    "## Score cut\n",
    "\n",
    "The other function in the python script is score_cut(). It takes the pandas data frame that was returned from predict_data() and returns a slice that includes all of the rows that have a proton score above a certain threshold.\n",
    "\n",
    "Here we look for all tracks with a proton score above 0.95:"
   ]
  },
  {
   "cell_type": "code",
   "execution_count": 8,
   "metadata": {
    "collapsed": false
   },
   "outputs": [],
   "source": [
    "data_pass = predict_multi.score_cut(data,0.95)"
   ]
  },
  {
   "cell_type": "markdown",
   "metadata": {},
   "source": [
    "We can see how many pass and how many are true protons:"
   ]
  },
  {
   "cell_type": "code",
   "execution_count": 9,
   "metadata": {
    "collapsed": false
   },
   "outputs": [
    {
     "name": "stdout",
     "output_type": "stream",
     "text": [
      "Number of passing tracks: 574\n",
      "Number of passing protons: 554\n",
      "Fraction true protons: 0.965\n"
     ]
    }
   ],
   "source": [
    "print 'Number of passing tracks: %s' %len(data_pass)\n",
    "print 'Number of passing protons: %s' %len(data_pass[data_pass.mcpdg == 2212])\n",
    "print 'Fraction true protons: %.3f' %(np.true_divide(len(data_pass[data_pass.mcpdg == 2212]),len(data_pass)))"
   ]
  },
  {
   "cell_type": "markdown",
   "metadata": {},
   "source": [
    "We can take a look at what particle types are passing the score cut:"
   ]
  },
  {
   "cell_type": "code",
   "execution_count": 17,
   "metadata": {
    "collapsed": false
   },
   "outputs": [
    {
     "data": {
      "image/png": "[encoded data removed]",
      "text/plain": [
       "<matplotlib.figure.Figure at 0x7f4f3b2911d0>"
      ]
     },
     "metadata": {},
     "output_type": "display_data"
    }
   ],
   "source": [
    "plt.hist(data_pass.mcpdg,bins=50, label='Tracks that pass proton score cut');\n",
    "plt.xlabel('PDG Code');\n",
    "plt.legend(loc='upper left', frameon=False);"
   ]
  },
  {
   "cell_type": "markdown",
   "metadata": {},
   "source": [
    "Or we can look at the true kinetic energy of the protons that pass:"
   ]
  },
  {
   "cell_type": "code",
   "execution_count": 20,
   "metadata": {
    "collapsed": false
   },
   "outputs": [
    {
     "data": {
      "image/png": "[encoded data removed]",
      "text/plain": [
       "<matplotlib.figure.Figure at 0x7f4f3b0d0f10>"
      ]
     },
     "metadata": {},
     "output_type": "display_data"
    }
   ],
   "source": [
    "plt.hist(data_pass.mckinetic[data_pass.mcpdg == 2212],bins=25,label='Proton tracks that \\n pass proton score cut');\n",
    "plt.xlabel('MC Kinetic Energy [GeV]');\n",
    "plt.legend(loc='upper right', frameon=False);"
   ]
  },
  {
   "cell_type": "code",
   "execution_count": null,
   "metadata": {
    "collapsed": true
   },
   "outputs": [],
   "source": []
  }
 ],
 "metadata": {
  "kernelspec": {
   "display_name": "Python 2",
   "language": "python",
   "name": "python2"
  },
  "language_info": {
   "codemirror_mode": {
    "name": "ipython",
    "version": 2
   },
   "file_extension": ".py",
   "mimetype": "text/x-python",
   "name": "python",
   "nbconvert_exporter": "python",
   "pygments_lexer": "ipython2",
   "version": "2.7.12"
  }
 },
 "nbformat": 4,
 "nbformat_minor": 0
}
