{
 "cells": [
  {
   "cell_type": "code",
   "execution_count": 1,
   "metadata": {},
   "outputs": [],
   "source": [
    "import statsmodels.api as sm\n",
    "from patsy import dmatrices"
   ]
  },
  {
   "cell_type": "code",
   "execution_count": 2,
   "metadata": {},
   "outputs": [],
   "source": [
    "data = pd.read_csv('../data/bnbcosmic/trackfeatures_prodgenie_bnb_nu_cosmic_uboone_mcc8.7_cali_dev_pmtrack_truncated_test.csv',index_col=False)\n",
    "data_c = pd.read_csv('../data/corsika_intime/trackfeatures_prodcosmics_corsika_cmc_uboone_intime_mcc8.7_reco2_dev_truncated_500000.csv',index_col=False)"
   ]
  },
  {
   "cell_type": "code",
   "execution_count": 3,
   "metadata": {},
   "outputs": [],
   "source": [
    "data['mc_inTPC'] = np.where((data.mc_nux >= 3.45)&(data.mc_nux <= 249.8)&(data.mc_nuy >= -110.53)&(data.mc_nuy <= 112.47)&(data.mc_nuz >= 5.1)&(data.mc_nuz <= 1031.9), 1,0)"
   ]
  },
  {
   "cell_type": "code",
   "execution_count": 4,
   "metadata": {},
   "outputs": [],
   "source": [
    "data['forward'] = np.where(data.theta <= np.pi/2., 1,0)\n",
    "data_c['forward'] = np.where(data_c.theta <= np.pi/2., 1,0)"
   ]
  },
  {
   "cell_type": "code",
   "execution_count": 5,
   "metadata": {},
   "outputs": [],
   "source": [
    "data_g = data[(data.inFiducial == 1)&(data.length >= 1.5)&(data.nbflash > 0)&(data.predict_p > 0.5)]"
   ]
  },
  {
   "cell_type": "code",
   "execution_count": 6,
   "metadata": {},
   "outputs": [
    {
     "name": "stdout",
     "output_type": "stream",
     "text": [
      "3227139\n",
      "85369\n"
     ]
    }
   ],
   "source": [
    "print len(data)\n",
    "print len(data_g)"
   ]
  },
  {
   "cell_type": "code",
   "execution_count": 7,
   "metadata": {},
   "outputs": [],
   "source": [
    "data_cg = data_c[(data_c.inFiducial == 1)&(data_c.length >= 1.5)&(data_c.nbflash > 0)&(data_c.predict_p > 0.5)]"
   ]
  },
  {
   "cell_type": "code",
   "execution_count": 8,
   "metadata": {},
   "outputs": [
    {
     "name": "stdout",
     "output_type": "stream",
     "text": [
      "500821\n",
      "1806\n"
     ]
    }
   ],
   "source": [
    "print len(data_c)\n",
    "print len(data_cg)"
   ]
  },
  {
   "cell_type": "code",
   "execution_count": 9,
   "metadata": {},
   "outputs": [
    {
     "name": "stderr",
     "output_type": "stream",
     "text": [
      "/usr/local/lib/python2.7/dist-packages/ipykernel_launcher.py:1: SettingWithCopyWarning: \n",
      "A value is trying to be set on a copy of a slice from a DataFrame.\n",
      "Try using .loc[row_indexer,col_indexer] = value instead\n",
      "\n",
      "See the caveats in the documentation: http://pandas.pydata.org/pandas-docs/stable/indexing.html#indexing-view-versus-copy\n",
      "  \"\"\"Entry point for launching an IPython kernel.\n",
      "/usr/local/lib/python2.7/dist-packages/ipykernel_launcher.py:2: SettingWithCopyWarning: \n",
      "A value is trying to be set on a copy of a slice from a DataFrame.\n",
      "Try using .loc[row_indexer,col_indexer] = value instead\n",
      "\n",
      "See the caveats in the documentation: http://pandas.pydata.org/pandas-docs/stable/indexing.html#indexing-view-versus-copy\n",
      "  \n"
     ]
    }
   ],
   "source": [
    "data_g['nce'] = np.where((data_g.mc_mode == 0)&(data_g.mc_ccnc == 1)&(data_g.mc_hitnuc == 2212)&(data_g.mc_inTPC == 1)&(data_g.mcpdg == 2212)&(data_g.mcorigin == 1)&(data_g.mcprimary == 1), 1,0)\n",
    "data_cg['nce'] = 0"
   ]
  },
  {
   "cell_type": "markdown",
   "metadata": {},
   "source": [
    "## Fit weights"
   ]
  },
  {
   "cell_type": "code",
   "execution_count": 10,
   "metadata": {},
   "outputs": [],
   "source": [
    "data_nc = data_g[data_g.nce == 1]\n",
    "data_bg = data_g[data_g.nce == 0]\n",
    "data_g = pd.concat([data_nc,data_bg.iloc[:2000],data_cg.iloc[:2000]])"
   ]
  },
  {
   "cell_type": "code",
   "execution_count": 11,
   "metadata": {},
   "outputs": [],
   "source": [
    "y, X = dmatrices('nce ~ predict_p + p_vtxdist + cfzabdiff + cfyabdiff + mu_evt_zfdist_min + pi_evt_zfdist_min + forward',data_g,return_type='dataframe')"
   ]
  },
  {
   "cell_type": "code",
   "execution_count": 12,
   "metadata": {},
   "outputs": [
    {
     "name": "stdout",
     "output_type": "stream",
     "text": [
      "4804\n",
      "4804\n",
      "998\n"
     ]
    }
   ],
   "source": [
    "print len(data_g)\n",
    "print len(X)\n",
    "print len(data_nc)"
   ]
  },
  {
   "cell_type": "code",
   "execution_count": 13,
   "metadata": {},
   "outputs": [
    {
     "name": "stdout",
     "output_type": "stream",
     "text": [
      "Optimization terminated successfully.\n",
      "         Current function value: 0.266563\n",
      "         Iterations 9\n"
     ]
    }
   ],
   "source": [
    "logit = sm.Logit(y,X,missing='drop')\n",
    "logitfit = logit.fit()"
   ]
  },
  {
   "cell_type": "code",
   "execution_count": 20,
   "metadata": {
    "scrolled": false
   },
   "outputs": [
    {
     "name": "stdout",
     "output_type": "stream",
     "text": [
      "8161.23834336\n",
      "1.6988422863\n",
      "                           Logit Regression Results                           \n",
      "==============================================================================\n",
      "Dep. Variable:                    nce   No. Observations:                 4804\n",
      "Model:                          Logit   Df Residuals:                     4796\n",
      "Method:                           MLE   Df Model:                            7\n",
      "Date:                Thu, 04 Oct 2018   Pseudo R-squ.:                  0.4783\n",
      "Time:                        12:13:35   Log-Likelihood:                -1280.6\n",
      "converged:                       True   LL-Null:                       -2454.6\n",
      "                                        LLR p-value:                     0.000\n",
      "=====================================================================================\n",
      "                        coef    std err          z      P>|z|      [95.0% Conf. Int.]\n",
      "-------------------------------------------------------------------------------------\n",
      "Intercept            -5.9440      0.362    -16.406      0.000        -6.654    -5.234\n",
      "predict_p_final       5.3890      0.402     13.400      0.000         4.601     6.177\n",
      "p_vtxdist             0.0212      0.001     17.285      0.000         0.019     0.024\n",
      "cfzabdiff            -0.0167      0.001    -18.091      0.000        -0.019    -0.015\n",
      "cfyabdiff            -0.0175      0.002    -10.134      0.000        -0.021    -0.014\n",
      "mu_evt_zfdist_min     0.0011      0.000      9.806      0.000         0.001     0.001\n",
      "pi_evt_zfdist_min     0.0010      0.000      8.320      0.000         0.001     0.001\n",
      "forward               0.5922      0.110      5.366      0.000         0.376     0.809\n",
      "=====================================================================================\n",
      "                          Results: Logit\n",
      "==================================================================\n",
      "Model:                Logit            Pseudo R-squared: 0.478    \n",
      "Dependent Variable:   nce              AIC:              2577.1355\n",
      "Date:                 2018-10-04 12:13 BIC:              2628.9532\n",
      "No. Observations:     4804             Log-Likelihood:   -1280.6  \n",
      "Df Model:             7                LL-Null:          -2454.6  \n",
      "Df Residuals:         4796             LLR p-value:      0.0000   \n",
      "Converged:            1.0000           Scale:            1.0000   \n",
      "No. Iterations:       9.0000                                      \n",
      "------------------------------------------------------------------\n",
      "                   Coef.  Std.Err.    z     P>|z|   [0.025  0.975]\n",
      "------------------------------------------------------------------\n",
      "Intercept         -5.9440   0.3623 -16.4060 0.0000 -6.6541 -5.2339\n",
      "predict_p_final    5.3890   0.4022  13.4002 0.0000  4.6008  6.1772\n",
      "p_vtxdist          0.0212   0.0012  17.2851 0.0000  0.0188  0.0236\n",
      "cfzabdiff         -0.0167   0.0009 -18.0908 0.0000 -0.0185 -0.0149\n",
      "cfyabdiff         -0.0175   0.0017 -10.1335 0.0000 -0.0209 -0.0141\n",
      "mu_evt_zfdist_min  0.0011   0.0001   9.8058 0.0000  0.0009  0.0013\n",
      "pi_evt_zfdist_min  0.0010   0.0001   8.3195 0.0000  0.0008  0.0012\n",
      "forward            0.5922   0.1104   5.3660 0.0000  0.3759  0.8086\n",
      "==================================================================\n",
      "\n"
     ]
    }
   ],
   "source": [
    "print logitfit.summary()"
   ]
  },
  {
   "cell_type": "code",
   "execution_count": 48,
   "metadata": {
    "scrolled": false
   },
   "outputs": [
    {
     "name": "stdout",
     "output_type": "stream",
     "text": [
      "                          Results: Logit\n",
      "==================================================================\n",
      "Model:                Logit            Pseudo R-squared: 0.448    \n",
      "Dependent Variable:   nce              AIC:              2461.4144\n",
      "Date:                 2018-06-29 11:02 BIC:              2511.7166\n",
      "No. Observations:     3975             Log-Likelihood:   -1222.7  \n",
      "Df Model:             7                LL-Null:          -2214.4  \n",
      "Df Residuals:         3967             LLR p-value:      0.0000   \n",
      "Converged:            1.0000           Scale:            1.0000   \n",
      "No. Iterations:       8.0000                                      \n",
      "------------------------------------------------------------------\n",
      "                   Coef.  Std.Err.    z     P>|z|   [0.025  0.975]\n",
      "------------------------------------------------------------------\n",
      "Intercept         -5.5169   0.3641 -15.1531 0.0000 -6.2304 -4.8033\n",
      "predict_p          4.4406   0.3732  11.8989 0.0000  3.7092  5.1720\n",
      "p_vtxdist          0.0235   0.0013  17.5274 0.0000  0.0209  0.0261\n",
      "cfzabdiff         -0.0136   0.0009 -15.7012 0.0000 -0.0153 -0.0119\n",
      "cfyabdiff         -0.0139   0.0018  -7.8115 0.0000 -0.0174 -0.0104\n",
      "mu_evt_zfdist_min  0.0011   0.0001   9.6177 0.0000  0.0009  0.0013\n",
      "pi_evt_zfdist_min  0.0009   0.0001   6.8313 0.0000  0.0006  0.0012\n",
      "forward            0.5284   0.1107   4.7747 0.0000  0.3115  0.7453\n",
      "==================================================================\n",
      "\n"
     ]
    }
   ],
   "source": [
    "print logitfit.summary2()"
   ]
  },
  {
   "cell_type": "code",
   "execution_count": 21,
   "metadata": {},
   "outputs": [
    {
     "name": "stdout",
     "output_type": "stream",
     "text": [
      "Intercept           -5.943956\n",
      "predict_p_final      5.388985\n",
      "p_vtxdist            0.021189\n",
      "cfzabdiff           -0.016710\n",
      "cfyabdiff           -0.017510\n",
      "mu_evt_zfdist_min    0.001084\n",
      "pi_evt_zfdist_min    0.000989\n",
      "forward              0.592240\n",
      "dtype: float64\n"
     ]
    }
   ],
   "source": [
    "print logitfit.params"
   ]
  },
  {
   "cell_type": "code",
   "execution_count": 50,
   "metadata": {},
   "outputs": [],
   "source": [
    "data_g['pred'] = logitfit.params['Intercept'] + logitfit.params['predict_p']*data_g['predict_p'] + logitfit.params['p_vtxdist']*data_g['p_vtxdist'] + logitfit.params['cfzabdiff']*data_g['cfzabdiff'] + logitfit.params['cfyabdiff']*data_g['cfyabdiff'] + logitfit.params['mu_evt_zfdist_min']*data_g['mu_evt_zfdist_min'] + logitfit.params['pi_evt_zfdist_min']*data_g['pi_evt_zfdist_min'] + logitfit.params['forward']*data_g['forward']"
   ]
  },
  {
   "cell_type": "code",
   "execution_count": 52,
   "metadata": {},
   "outputs": [
    {
     "name": "stdout",
     "output_type": "stream",
     "text": [
      "2607\n",
      "913\n"
     ]
    },
    {
     "data": {
      "image/png": "[encoded data removed]",
      "text/plain": [
       "<matplotlib.figure.Figure at 0x7f1db280c190>"
      ]
     },
     "metadata": {},
     "output_type": "display_data"
    }
   ],
   "source": [
    "plt.hist(data_g[(data_g.mc_mode == 0)&(data_g.mc_ccnc == 1)&(data_g.mc_hitnuc == 2212)&(data_g.mc_inTPC == 1)].groupby(['run','event']).max().pred,bins=np.linspace(-20,15,50),histtype='step');\n",
    "plt.hist(data_g.groupby(['run','event']).max().pred,bins=np.linspace(-20,15,50),histtype='step');\n",
    "print len(data_g.groupby(['run','event']))\n",
    "print len(data_g[data_g.nce == 1].groupby(['run','event']))"
   ]
  },
  {
   "cell_type": "code",
   "execution_count": null,
   "metadata": {},
   "outputs": [],
   "source": []
  },
  {
   "cell_type": "markdown",
   "metadata": {},
   "source": [
    "## Coefficient significance"
   ]
  },
  {
   "cell_type": "code",
   "execution_count": 55,
   "metadata": {},
   "outputs": [],
   "source": [
    "data_g['ncprob'] = np.exp(data_g['pred'])/(1. + np.exp(data_g['pred']))"
   ]
  },
  {
   "cell_type": "code",
   "execution_count": 56,
   "metadata": {},
   "outputs": [],
   "source": [
    "SSE = ((data_g['ncprob'] - data_g['nce'])**2).sum()"
   ]
  },
  {
   "cell_type": "markdown",
   "metadata": {},
   "source": [
    "### predict_p"
   ]
  },
  {
   "cell_type": "code",
   "execution_count": 57,
   "metadata": {},
   "outputs": [],
   "source": [
    "y, X = dmatrices('nce ~ p_vtxdist + cfzabdiff + cfyabdiff + forward + mu_evt_zfdist_min + pi_evt_zfdist_min + forward',data_g,return_type='dataframe')"
   ]
  },
  {
   "cell_type": "code",
   "execution_count": 58,
   "metadata": {},
   "outputs": [
    {
     "name": "stdout",
     "output_type": "stream",
     "text": [
      "Optimization terminated successfully.\n",
      "         Current function value: 0.327782\n",
      "         Iterations 8\n"
     ]
    }
   ],
   "source": [
    "logit = sm.Logit(y,X,missing='drop')\n",
    "logitfit = logit.fit()"
   ]
  },
  {
   "cell_type": "code",
   "execution_count": 59,
   "metadata": {},
   "outputs": [
    {
     "data": {
      "text/plain": [
       "Intercept           -1.812063\n",
       "p_vtxdist            0.024228\n",
       "cfzabdiff           -0.015339\n",
       "cfyabdiff           -0.015354\n",
       "forward              0.734703\n",
       "mu_evt_zfdist_min    0.001028\n",
       "pi_evt_zfdist_min    0.000958\n",
       "dtype: float64"
      ]
     },
     "execution_count": 59,
     "metadata": {},
     "output_type": "execute_result"
    }
   ],
   "source": [
    "logitfit.params"
   ]
  },
  {
   "cell_type": "code",
   "execution_count": 60,
   "metadata": {},
   "outputs": [],
   "source": [
    "data_g['pred_01'] = logitfit.params['Intercept'] + logitfit.params['p_vtxdist']*data_g['p_vtxdist'] + logitfit.params['cfzabdiff']*data_g['cfzabdiff'] + logitfit.params['cfyabdiff']*data_g['cfyabdiff'] + logitfit.params['forward']*data_g['forward'] + logitfit.params['mu_evt_zfdist_min']*data_g['mu_evt_zfdist_min'] + logitfit.params['pi_evt_zfdist_min']*data_g['pi_evt_zfdist_min']\n",
    "data_g['ncprob_01'] = np.exp(data_g['pred_01'])/(1.+ np.exp(data_g['pred_01']))"
   ]
  },
  {
   "cell_type": "code",
   "execution_count": 61,
   "metadata": {},
   "outputs": [],
   "source": [
    "SSE_01 = ((data_g['ncprob_01'] - data_g['nce'])**2).sum()"
   ]
  },
  {
   "cell_type": "code",
   "execution_count": 62,
   "metadata": {},
   "outputs": [
    {
     "name": "stdout",
     "output_type": "stream",
     "text": [
      "-29.4498107929\n"
     ]
    }
   ],
   "source": [
    "print SSE - SSE_01"
   ]
  },
  {
   "cell_type": "markdown",
   "metadata": {},
   "source": [
    "### p_vtxdist"
   ]
  },
  {
   "cell_type": "code",
   "execution_count": 64,
   "metadata": {},
   "outputs": [],
   "source": [
    "y, X = dmatrices('nce ~ predict_p + cfzabdiff + cfyabdiff + forward + mu_evt_zfdist_min + pi_evt_zfdist_min',data_g,return_type='dataframe')"
   ]
  },
  {
   "cell_type": "code",
   "execution_count": 65,
   "metadata": {},
   "outputs": [
    {
     "name": "stdout",
     "output_type": "stream",
     "text": [
      "Optimization terminated successfully.\n",
      "         Current function value: 0.357694\n",
      "         Iterations 8\n"
     ]
    }
   ],
   "source": [
    "logit = sm.Logit(y,X,missing='drop')\n",
    "logitfit = logit.fit()"
   ]
  },
  {
   "cell_type": "code",
   "execution_count": 66,
   "metadata": {},
   "outputs": [
    {
     "data": {
      "text/plain": [
       "Intercept           -5.787145\n",
       "predict_p            4.964753\n",
       "cfzabdiff           -0.011195\n",
       "cfyabdiff           -0.012621\n",
       "forward              0.657803\n",
       "mu_evt_zfdist_min    0.001361\n",
       "pi_evt_zfdist_min    0.001139\n",
       "dtype: float64"
      ]
     },
     "execution_count": 66,
     "metadata": {},
     "output_type": "execute_result"
    }
   ],
   "source": [
    "logitfit.params"
   ]
  },
  {
   "cell_type": "code",
   "execution_count": 67,
   "metadata": {},
   "outputs": [],
   "source": [
    "data_g['pred_02'] = logitfit.params['Intercept'] + logitfit.params['predict_p']*data_g['predict_p'] + logitfit.params['cfzabdiff']*data_g['cfzabdiff'] + logitfit.params['cfyabdiff']*data_g['cfyabdiff'] + logitfit.params['forward']*data_g['forward'] + logitfit.params['mu_evt_zfdist_min']*data_g['mu_evt_zfdist_min'] + logitfit.params['pi_evt_zfdist_min']*data_g['pi_evt_zfdist_min']\n",
    "data_g['ncprob_02'] = np.exp(data_g['pred_02'])/(1.+ np.exp(data_g['pred_02']))"
   ]
  },
  {
   "cell_type": "code",
   "execution_count": 68,
   "metadata": {},
   "outputs": [],
   "source": [
    "SSE_02 = ((data_g['ncprob_02'] - data_g['nce'])**2).sum()"
   ]
  },
  {
   "cell_type": "code",
   "execution_count": 69,
   "metadata": {},
   "outputs": [
    {
     "name": "stdout",
     "output_type": "stream",
     "text": [
      "-73.2113560797\n"
     ]
    }
   ],
   "source": [
    "print SSE - SSE_02"
   ]
  },
  {
   "cell_type": "markdown",
   "metadata": {},
   "source": [
    "### cfzabdiff"
   ]
  },
  {
   "cell_type": "code",
   "execution_count": 70,
   "metadata": {},
   "outputs": [],
   "source": [
    "y, X = dmatrices('nce ~ predict_p + p_vtxdist + cfyabdiff + forward + mu_evt_zfdist_min + pi_evt_zfdist_min',data_g,return_type='dataframe')"
   ]
  },
  {
   "cell_type": "code",
   "execution_count": 71,
   "metadata": {},
   "outputs": [
    {
     "name": "stdout",
     "output_type": "stream",
     "text": [
      "Optimization terminated successfully.\n",
      "         Current function value: 0.383605\n",
      "         Iterations 7\n"
     ]
    }
   ],
   "source": [
    "logit = sm.Logit(y,X,missing='drop')\n",
    "logitfit = logit.fit()"
   ]
  },
  {
   "cell_type": "code",
   "execution_count": 72,
   "metadata": {},
   "outputs": [
    {
     "data": {
      "text/plain": [
       "Intercept           -7.392017\n",
       "predict_p            5.892671\n",
       "p_vtxdist            0.016104\n",
       "cfyabdiff           -0.018216\n",
       "forward              0.649235\n",
       "mu_evt_zfdist_min    0.001060\n",
       "pi_evt_zfdist_min    0.000779\n",
       "dtype: float64"
      ]
     },
     "execution_count": 72,
     "metadata": {},
     "output_type": "execute_result"
    }
   ],
   "source": [
    "logitfit.params"
   ]
  },
  {
   "cell_type": "code",
   "execution_count": 74,
   "metadata": {},
   "outputs": [],
   "source": [
    "data_g['pred_03'] = logitfit.params['Intercept'] + logitfit.params['predict_p']*data_g['predict_p'] + logitfit.params['p_vtxdist']*data_g['p_vtxdist'] + logitfit.params['cfyabdiff']*data_g['cfyabdiff'] + logitfit.params['forward']*data_g['forward'] + logitfit.params['mu_evt_zfdist_min']*data_g['mu_evt_zfdist_min'] + logitfit.params['pi_evt_zfdist_min']*data_g['pi_evt_zfdist_min']\n",
    "data_g['ncprob_03'] = np.exp(data_g['pred_03'])/(1.+ np.exp(data_g['pred_03']))"
   ]
  },
  {
   "cell_type": "code",
   "execution_count": 75,
   "metadata": {},
   "outputs": [],
   "source": [
    "SSE_03 = ((data_g['ncprob_03'] - data_g['nce'])**2).sum()"
   ]
  },
  {
   "cell_type": "code",
   "execution_count": 76,
   "metadata": {},
   "outputs": [
    {
     "name": "stdout",
     "output_type": "stream",
     "text": [
      "-98.0967622938\n"
     ]
    }
   ],
   "source": [
    "print SSE - SSE_03"
   ]
  },
  {
   "cell_type": "markdown",
   "metadata": {},
   "source": [
    "### cfyabdiff"
   ]
  },
  {
   "cell_type": "code",
   "execution_count": 77,
   "metadata": {},
   "outputs": [],
   "source": [
    "y, X = dmatrices('nce ~ predict_p + p_vtxdist + cfzabdiff + forward + mu_evt_zfdist_min + pi_evt_zfdist_min',data_g,return_type='dataframe')"
   ]
  },
  {
   "cell_type": "code",
   "execution_count": 78,
   "metadata": {},
   "outputs": [
    {
     "name": "stdout",
     "output_type": "stream",
     "text": [
      "Optimization terminated successfully.\n",
      "         Current function value: 0.315608\n",
      "         Iterations 8\n"
     ]
    }
   ],
   "source": [
    "logit = sm.Logit(y,X,missing='drop')\n",
    "logitfit = logit.fit()"
   ]
  },
  {
   "cell_type": "code",
   "execution_count": 79,
   "metadata": {},
   "outputs": [
    {
     "data": {
      "text/plain": [
       "Intercept           -6.260366\n",
       "predict_p            4.636242\n",
       "p_vtxdist            0.023064\n",
       "cfzabdiff           -0.014420\n",
       "forward              0.561326\n",
       "mu_evt_zfdist_min    0.001036\n",
       "pi_evt_zfdist_min    0.000886\n",
       "dtype: float64"
      ]
     },
     "execution_count": 79,
     "metadata": {},
     "output_type": "execute_result"
    }
   ],
   "source": [
    "logitfit.params"
   ]
  },
  {
   "cell_type": "code",
   "execution_count": 80,
   "metadata": {},
   "outputs": [],
   "source": [
    "data_g['pred_04'] = logitfit.params['Intercept'] + logitfit.params['predict_p']*data_g['predict_p'] + logitfit.params['p_vtxdist']*data_g['p_vtxdist'] + logitfit.params['cfzabdiff']*data_g['cfzabdiff'] + logitfit.params['forward']*data_g['forward'] + logitfit.params['mu_evt_zfdist_min']*data_g['mu_evt_zfdist_min'] + logitfit.params['pi_evt_zfdist_min']*data_g['pi_evt_zfdist_min']\n",
    "data_g['ncprob_04'] = np.exp(data_g['pred_04'])/(1.+ np.exp(data_g['pred_04']))"
   ]
  },
  {
   "cell_type": "code",
   "execution_count": 81,
   "metadata": {},
   "outputs": [],
   "source": [
    "SSE_04 = ((data_g['ncprob_04'] - data_g['nce'])**2).sum()"
   ]
  },
  {
   "cell_type": "code",
   "execution_count": 82,
   "metadata": {},
   "outputs": [
    {
     "name": "stdout",
     "output_type": "stream",
     "text": [
      "-11.0057116333\n"
     ]
    }
   ],
   "source": [
    "print SSE - SSE_04"
   ]
  },
  {
   "cell_type": "markdown",
   "metadata": {},
   "source": [
    "### forward"
   ]
  },
  {
   "cell_type": "code",
   "execution_count": 95,
   "metadata": {},
   "outputs": [],
   "source": [
    "y, X = dmatrices('nce ~ predict_p + p_vtxdist + cfzabdiff + cfyabdiff + mu_evt_zfdist_min + pi_evt_zfdist_min',data_g,return_type='dataframe')"
   ]
  },
  {
   "cell_type": "code",
   "execution_count": 96,
   "metadata": {},
   "outputs": [
    {
     "name": "stdout",
     "output_type": "stream",
     "text": [
      "Optimization terminated successfully.\n",
      "         Current function value: 0.310519\n",
      "         Iterations 8\n"
     ]
    }
   ],
   "source": [
    "logit = sm.Logit(y,X,missing='drop')\n",
    "logitfit = logit.fit()"
   ]
  },
  {
   "cell_type": "code",
   "execution_count": 97,
   "metadata": {},
   "outputs": [
    {
     "data": {
      "text/plain": [
       "Intercept           -5.372370\n",
       "predict_p            4.735581\n",
       "p_vtxdist            0.023748\n",
       "cfzabdiff           -0.013810\n",
       "cfyabdiff           -0.014187\n",
       "mu_evt_zfdist_min    0.001052\n",
       "pi_evt_zfdist_min    0.000881\n",
       "dtype: float64"
      ]
     },
     "execution_count": 97,
     "metadata": {},
     "output_type": "execute_result"
    }
   ],
   "source": [
    "logitfit.params"
   ]
  },
  {
   "cell_type": "code",
   "execution_count": 98,
   "metadata": {},
   "outputs": [],
   "source": [
    "data_g['pred_05'] = logitfit.params['Intercept'] + logitfit.params['predict_p']*data_g['predict_p'] + logitfit.params['p_vtxdist']*data_g['p_vtxdist'] + logitfit.params['cfzabdiff']*data_g['cfzabdiff'] + logitfit.params['cfyabdiff']*data_g['cfyabdiff'] + logitfit.params['mu_evt_zfdist_min']*data_g['mu_evt_zfdist_min'] + logitfit.params['pi_evt_zfdist_min']*data_g['pi_evt_zfdist_min']\n",
    "data_g['ncprob_05'] = np.exp(data_g['pred_05'])/(1.+ np.exp(data_g['pred_05']))"
   ]
  },
  {
   "cell_type": "code",
   "execution_count": 99,
   "metadata": {},
   "outputs": [],
   "source": [
    "SSE_05 = ((data_g['ncprob_05'] - data_g['nce'])**2).sum()"
   ]
  },
  {
   "cell_type": "code",
   "execution_count": 100,
   "metadata": {},
   "outputs": [
    {
     "name": "stdout",
     "output_type": "stream",
     "text": [
      "-4.0698987929\n"
     ]
    }
   ],
   "source": [
    "print SSE - SSE_05"
   ]
  },
  {
   "cell_type": "markdown",
   "metadata": {},
   "source": [
    "### mu_evt_zfdist_min"
   ]
  },
  {
   "cell_type": "code",
   "execution_count": 101,
   "metadata": {},
   "outputs": [],
   "source": [
    "y, X = dmatrices('nce ~ predict_p + p_vtxdist + cfzabdiff + cfyabdiff + forward + pi_evt_zfdist_min',data_g,return_type='dataframe')"
   ]
  },
  {
   "cell_type": "code",
   "execution_count": 102,
   "metadata": {},
   "outputs": [
    {
     "name": "stdout",
     "output_type": "stream",
     "text": [
      "Optimization terminated successfully.\n",
      "         Current function value: 0.319540\n",
      "         Iterations 8\n"
     ]
    }
   ],
   "source": [
    "logit = sm.Logit(y,X,missing='drop')\n",
    "logitfit = logit.fit()"
   ]
  },
  {
   "cell_type": "code",
   "execution_count": 103,
   "metadata": {},
   "outputs": [
    {
     "data": {
      "text/plain": [
       "Intercept           -4.992915\n",
       "predict_p            4.351386\n",
       "p_vtxdist            0.025141\n",
       "cfzabdiff           -0.013952\n",
       "cfyabdiff           -0.013109\n",
       "forward              0.479729\n",
       "pi_evt_zfdist_min    0.001002\n",
       "dtype: float64"
      ]
     },
     "execution_count": 103,
     "metadata": {},
     "output_type": "execute_result"
    }
   ],
   "source": [
    "logitfit.params"
   ]
  },
  {
   "cell_type": "code",
   "execution_count": 104,
   "metadata": {},
   "outputs": [],
   "source": [
    "data_g['pred_06'] = logitfit.params['Intercept'] + logitfit.params['predict_p']*data_g['predict_p'] + logitfit.params['p_vtxdist']*data_g['p_vtxdist'] + logitfit.params['cfzabdiff']*data_g['cfzabdiff'] + logitfit.params['cfyabdiff']*data_g['cfyabdiff'] + logitfit.params['forward']*data_g['forward'] + logitfit.params['pi_evt_zfdist_min']*data_g['pi_evt_zfdist_min']\n",
    "data_g['ncprob_06'] = np.exp(data_g['pred_06'])/(1.+ np.exp(data_g['pred_06']))"
   ]
  },
  {
   "cell_type": "code",
   "execution_count": 105,
   "metadata": {},
   "outputs": [],
   "source": [
    "SSE_06 = ((data_g['ncprob_06'] - data_g['nce'])**2).sum()"
   ]
  },
  {
   "cell_type": "code",
   "execution_count": 106,
   "metadata": {},
   "outputs": [
    {
     "name": "stdout",
     "output_type": "stream",
     "text": [
      "-17.3527686703\n"
     ]
    }
   ],
   "source": [
    "print SSE - SSE_06"
   ]
  },
  {
   "cell_type": "markdown",
   "metadata": {},
   "source": [
    "### pi_evt_zfdist_min"
   ]
  },
  {
   "cell_type": "code",
   "execution_count": 107,
   "metadata": {},
   "outputs": [],
   "source": [
    "y, X = dmatrices('nce ~ predict_p + p_vtxdist + cfzabdiff + cfyabdiff + forward + mu_evt_zfdist_min',data_g,return_type='dataframe')"
   ]
  },
  {
   "cell_type": "code",
   "execution_count": 108,
   "metadata": {},
   "outputs": [
    {
     "name": "stdout",
     "output_type": "stream",
     "text": [
      "Optimization terminated successfully.\n",
      "         Current function value: 0.313834\n",
      "         Iterations 8\n"
     ]
    }
   ],
   "source": [
    "logit = sm.Logit(y,X,missing='drop')\n",
    "logitfit = logit.fit()"
   ]
  },
  {
   "cell_type": "code",
   "execution_count": 109,
   "metadata": {},
   "outputs": [
    {
     "data": {
      "text/plain": [
       "Intercept           -4.965909\n",
       "predict_p            4.534842\n",
       "p_vtxdist            0.024297\n",
       "cfzabdiff           -0.013466\n",
       "cfyabdiff           -0.013655\n",
       "forward              0.497863\n",
       "mu_evt_zfdist_min    0.001138\n",
       "dtype: float64"
      ]
     },
     "execution_count": 109,
     "metadata": {},
     "output_type": "execute_result"
    }
   ],
   "source": [
    "logitfit.params"
   ]
  },
  {
   "cell_type": "code",
   "execution_count": 111,
   "metadata": {},
   "outputs": [],
   "source": [
    "data_g['pred_07'] = logitfit.params['Intercept'] + logitfit.params['predict_p']*data_g['predict_p'] + logitfit.params['p_vtxdist']*data_g['p_vtxdist'] + logitfit.params['cfzabdiff']*data_g['cfzabdiff'] + logitfit.params['cfyabdiff']*data_g['cfyabdiff'] + logitfit.params['forward']*data_g['forward'] + logitfit.params['mu_evt_zfdist_min']*data_g['mu_evt_zfdist_min']\n",
    "data_g['ncprob_07'] = np.exp(data_g['pred_07'])/(1.+ np.exp(data_g['pred_07']))"
   ]
  },
  {
   "cell_type": "code",
   "execution_count": 112,
   "metadata": {},
   "outputs": [],
   "source": [
    "SSE_07 = ((data_g['ncprob_07'] - data_g['nce'])**2).sum()"
   ]
  },
  {
   "cell_type": "code",
   "execution_count": 113,
   "metadata": {},
   "outputs": [
    {
     "name": "stdout",
     "output_type": "stream",
     "text": [
      "-8.09427299731\n"
     ]
    }
   ],
   "source": [
    "print SSE - SSE_07"
   ]
  },
  {
   "cell_type": "code",
   "execution_count": 114,
   "metadata": {},
   "outputs": [
    {
     "name": "stdout",
     "output_type": "stream",
     "text": [
      "predict_p: -29.4498107929\n",
      "p_vtxdist: -73.2113560797\n",
      "cfzabdiff: -98.0967622938\n",
      "cfyabdiff: -11.0057116333\n",
      "forward: -4.0698987929\n",
      "mu_evt_zfdist_min: -17.3527686703\n",
      "pi_evt_zfdist_min: -8.09427299731\n"
     ]
    }
   ],
   "source": [
    "print 'predict_p: %s' %(SSE - SSE_01)\n",
    "print 'p_vtxdist: %s' %(SSE - SSE_02)\n",
    "print 'cfzabdiff: %s' %(SSE - SSE_03)\n",
    "print 'cfyabdiff: %s' %(SSE - SSE_04)\n",
    "print 'forward: %s' %(SSE - SSE_05)\n",
    "print 'mu_evt_zfdist_min: %s' %(SSE - SSE_06)\n",
    "print 'pi_evt_zfdist_min: %s' %(SSE - SSE_07)"
   ]
  },
  {
   "cell_type": "code",
   "execution_count": null,
   "metadata": {},
   "outputs": [],
   "source": []
  }
 ],
 "metadata": {
  "kernelspec": {
   "display_name": "Python 2",
   "language": "python",
   "name": "python2"
  },
  "language_info": {
   "codemirror_mode": {
    "name": "ipython",
    "version": 2
   },
   "file_extension": ".py",
   "mimetype": "text/x-python",
   "name": "python",
   "nbconvert_exporter": "python",
   "pygments_lexer": "ipython2",
   "version": "2.7.12"
  }
 },
 "nbformat": 4,
 "nbformat_minor": 2
}
