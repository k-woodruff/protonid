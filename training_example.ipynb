{
 "cells": [
  {
   "cell_type": "markdown",
   "metadata": {},
   "source": [
    "# Proton ID training example"
   ]
  },
  {
   "cell_type": "markdown",
   "metadata": {},
   "source": [
    "There is a python script (boost_multi.py) that imports XGBoost (https://github.com/dmlc/xgboost) and trains a gradient-boosted decision tree classifier. There are three useful functions: load_data(), run_cv(), and make_bdt(). This example shows how to use these functions.\n",
    "\n",
    "This script uses protons from BNB MC and protons from cosmic MC as the target (positive) class. It has four negative classes: BNB MC muons, BNB MC pions, BNB MC EM shower tracks, and BNB non-proton cosmics. It can easily be edited to use any set of reconstructed tracks as the target class or background classes. "
   ]
  },
  {
   "cell_type": "markdown",
   "metadata": {},
   "source": [
    "### Getting csv files from analysis tree\n",
    "There are currently two ways of getting all of the reconstructed features used out of the analysis tree files.\n",
    "\n",
    "1. There is a ROOT macro that you can find here:\n",
    "/uboone/app/users/kwoodruf/ana2csv/ana2csv_bnbcos.C\n",
    "(It is pretty bloated and inefficient.)\n",
    "\n",
    "2. Erez Cohen wrote a larlite module that is much faster and more efficient to get these variables out. You can contact him on how to use it.\n",
    "\n",
    "If you just want to look at MCC7 monte carlo samples, I can point you to where csv files already exist."
   ]
  },
  {
   "cell_type": "code",
   "execution_count": 1,
   "metadata": {
    "collapsed": true
   },
   "outputs": [],
   "source": [
    "import boost_multi"
   ]
  },
  {
   "cell_type": "markdown",
   "metadata": {},
   "source": [
    "The load_data() functions doesn't take any arguments. The csv files and class labels are hard coded into the script.\n",
    "\n",
    "It returns numpy arrays with the training data and the corresponding class labels and weights."
   ]
  },
  {
   "cell_type": "code",
   "execution_count": 2,
   "metadata": {
    "collapsed": false
   },
   "outputs": [],
   "source": [
    "data,label,weight = boost_multi.load_data()"
   ]
  },
  {
   "cell_type": "markdown",
   "metadata": {},
   "source": [
    "## Running cross validation\n",
    "\n",
    "The run_cv() function runs cross validation using the training data. It takes in the data, labels, and weights that are returned by load_data(). It returns numpy arrays containing the the test error (and false positive and negative fractions) for each fold. It also returns a large numpy array that contains the CV scores for every single one of the training samples. You may or may not want to comment that part out.\n",
    "\n",
    "All of the CV and classifier hyperparameters are hard-coded in and should be edited. In this example, to keep things quick and easy, we use 50 trees, a small subset of the data, and 5-fold, stratified CV. The classifier hyperparameters were determined using a much larger number of trees and number of samples using the hyperopt library (https://github.com/dmlc/xgboost). You should definitely look at the XGBoost documentation to learn about what these parameters mean."
   ]
  },
  {
   "cell_type": "code",
   "execution_count": 3,
   "metadata": {
    "collapsed": false
   },
   "outputs": [
    {
     "name": "stdout",
     "output_type": "stream",
     "text": [
      "On fold 0\n",
      "Fold error: 0.0676\n",
      "On fold 1\n",
      "Fold error: 0.0652\n",
      "On fold 2\n",
      "Fold error: 0.0691\n",
      "On fold 3\n",
      "Fold error: 0.0670\n",
      "On fold 4\n",
      "Fold error: 0.0681\n"
     ]
    }
   ],
   "source": [
    "test_error,test_falsepos,test_falseneg,scores = boost_multi.run_cv( data,label,weight )"
   ]
  },
  {
   "cell_type": "markdown",
   "metadata": {},
   "source": [
    "We can look at error and variance from cross-validation:\n",
    "\n",
    "(remember that the results should improve when you use an appropriate amount of samples and trees)"
   ]
  },
  {
   "cell_type": "code",
   "execution_count": 6,
   "metadata": {
    "collapsed": false
   },
   "outputs": [
    {
     "name": "stdout",
     "output_type": "stream",
     "text": [
      "CV error: 0.0674 +/- 0.0013\n"
     ]
    }
   ],
   "source": [
    "print 'CV error: %.4f +/- %.4f' %(np.array(test_error).mean(),np.array(test_error).std())"
   ]
  },
  {
   "cell_type": "markdown",
   "metadata": {},
   "source": [
    "### Interpreting the CV predictions\n",
    "\n",
    "The output array \"scores\" is a 6-dimensional array.\n",
    "The first column is the probability of each sample to be a proton,\n",
    "the second through fifth columns are the probabilities for each sample to be a muon, pi, em, or cosmic track.\n",
    "The last column is the monte carlo truth label of the sample\n",
    "(0 = proton, 1 = muon, 2 = pion, 3 = electron or photon, 4 = cosmic).\n",
    "\n",
    "The following lines pull out 5-D arrays of scores for each mc particle in the training set:"
   ]
  },
  {
   "cell_type": "code",
   "execution_count": 7,
   "metadata": {
    "collapsed": false
   },
   "outputs": [],
   "source": [
    "proton_scores = scores[0:5,scores[5,:] == 0]\n",
    "muon_scores   = scores[0:5,scores[5,:] == 1]\n",
    "pion_scores   = scores[0:5,scores[5,:] == 2]\n",
    "em_scores     = scores[0:5,scores[5,:] == 3]\n",
    "cosmic_scores = scores[0:5,scores[5,:] == 4]"
   ]
  },
  {
   "cell_type": "markdown",
   "metadata": {},
   "source": [
    "We can now plot the distribution of proton scores (first column in scores) for each particle type.\n",
    "We could do the same for the probability of being a muon or pion, etc."
   ]
  },
  {
   "cell_type": "code",
   "execution_count": 8,
   "metadata": {
    "collapsed": false
   },
   "outputs": [
    {
     "data": {
      "image/png": "[encoded data removed]",
      "text/plain": [
       "<matplotlib.figure.Figure at 0x7f7a81d67050>"
      ]
     },
     "metadata": {},
     "output_type": "display_data"
    }
   ],
   "source": [
    "plt.hist(proton_scores[0],bins=50,histtype='step',label='protons');\n",
    "plt.hist(muon_scores[0]  ,bins=50,histtype='step',label='muons');\n",
    "plt.hist(pion_scores[0]  ,bins=50,histtype='step',label='pions');\n",
    "plt.hist(em_scores[0]    ,bins=50,histtype='step',label='electrons and photons');\n",
    "plt.hist(cosmic_scores[0],bins=50,histtype='step',label='cosmics');\n",
    "plt.legend(loc='upper right',frameon=False);"
   ]
  },
  {
   "cell_type": "markdown",
   "metadata": {},
   "source": [
    "## Train and save the classifier for production\n",
    "\n",
    "Once we are satisfied with how the trees behave, we can train on all of the data and save the model. All of the same hyperparameters should be used here that were used for cross validation. We have already loaded the data in the first step, so we don't need to do it again. "
   ]
  },
  {
   "cell_type": "code",
   "execution_count": 9,
   "metadata": {
    "collapsed": false
   },
   "outputs": [],
   "source": [
    "bdt = boost_multi.make_bdt( data,label,weight )"
   ]
  },
  {
   "cell_type": "markdown",
   "metadata": {},
   "source": [
    "Save this to use later to predict data:"
   ]
  },
  {
   "cell_type": "code",
   "execution_count": 11,
   "metadata": {
    "collapsed": true
   },
   "outputs": [],
   "source": [
    "bdt.save_model('bdts/multi.bst')"
   ]
  },
  {
   "cell_type": "markdown",
   "metadata": {},
   "source": [
    "We can also look at what the important features are. These are the most common variables that the trees used to split the data.\n",
    "\n",
    "First print the feature names for reference (copied from python script):"
   ]
  },
  {
   "cell_type": "code",
   "execution_count": 13,
   "metadata": {
    "collapsed": false
   },
   "outputs": [
    {
     "data": {
      "image/png": "[encoded data removed]",
      "text/plain": [
       "<matplotlib.figure.Figure at 0x7f7ac4151f90>"
      ]
     },
     "metadata": {},
     "output_type": "display_data"
    }
   ],
   "source": [
    "features = ['nhits','length','starty','startz','endy','endz','theta','phi',\n",
    "            'distlenratio','startdqdx','enddqdx','dqdxdiff','dqdxratio',\n",
    "            'totaldqdx','averagedqdx','cosmicscore','coscontscore',\n",
    "            'pidpida','pidchi','cfdistance']\n",
    "import xgboost as xgb\n",
    "ax = xgb.plot_importance(bdt);"
   ]
  },
  {
   "cell_type": "markdown",
   "metadata": {},
   "source": [
    "I haven't spent the time to figure out an elegant way to match the \n",
    "features to the labels on the importance plot yet\n",
    "for now we can look one-by-one"
   ]
  },
  {
   "cell_type": "code",
   "execution_count": 15,
   "metadata": {
    "collapsed": false
   },
   "outputs": [
    {
     "name": "stdout",
     "output_type": "stream",
     "text": [
      "Most important features:\n",
      "1. pidpida\n",
      "2. pidchi\n",
      "3. cfdistance\n"
     ]
    }
   ],
   "source": [
    "# the three most important features are 17, 18, and 19:\n",
    "print 'Most important features:'\n",
    "print '1. %s' %features[17]\n",
    "print '2. %s' %features[18]\n",
    "print '3. %s' %features[19]"
   ]
  },
  {
   "cell_type": "code",
   "execution_count": 18,
   "metadata": {
    "collapsed": false
   },
   "outputs": [
    {
     "name": "stdout",
     "output_type": "stream",
     "text": [
      "Least important features:\n",
      "18. endz\n",
      "19. cosmicscore\n",
      "20. coscontscore\n"
     ]
    }
   ],
   "source": [
    "# the three least important are 5, 15, and 16\n",
    "print 'Least important features:'\n",
    "print '18. %s' %features[5]\n",
    "print '19. %s' %features[15]\n",
    "print '20. %s' %features[16]"
   ]
  },
  {
   "cell_type": "markdown",
   "metadata": {
    "collapsed": true
   },
   "source": [
    "To use the BDT model to predict, you can use predict_multi.py script. An example of how to use this is in the score_example.ipynb notebook."
   ]
  }
 ],
 "metadata": {
  "kernelspec": {
   "display_name": "Python 2",
   "language": "python",
   "name": "python2"
  },
  "language_info": {
   "codemirror_mode": {
    "name": "ipython",
    "version": 2
   },
   "file_extension": ".py",
   "mimetype": "text/x-python",
   "name": "python",
   "nbconvert_exporter": "python",
   "pygments_lexer": "ipython2",
   "version": "2.7.12"
  }
 },
 "nbformat": 4,
 "nbformat_minor": 1
}
